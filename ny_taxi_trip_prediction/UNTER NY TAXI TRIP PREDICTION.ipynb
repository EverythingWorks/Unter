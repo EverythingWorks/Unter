{
 "cells": [
  {
   "cell_type": "code",
   "execution_count": 1,
   "metadata": {
    "colab": {
     "autoexec": {
      "startup": false,
      "wait_interval": 0
     }
    },
    "colab_type": "code",
    "id": "ouiRj_SHpwug"
   },
   "outputs": [],
   "source": [
    "import pandas as pd\n",
    "import numpy as np\n",
    "from sklearn.model_selection import cross_val_score"
   ]
  },
  {
   "cell_type": "code",
   "execution_count": 2,
   "metadata": {
    "colab": {
     "autoexec": {
      "startup": false,
      "wait_interval": 0
     },
     "base_uri": "https://localhost:8080/",
     "height": 933
    },
    "colab_type": "code",
    "executionInfo": {
     "elapsed": 626,
     "status": "error",
     "timestamp": 1525687735346,
     "user": {
      "displayName": "Daniel Piskorski",
      "photoUrl": "//lh3.googleusercontent.com/-YRTQPqbF3mQ/AAAAAAAAAAI/AAAAAAAABgI/8AJLSSrEZ48/s50-c-k-no/photo.jpg",
      "userId": "101159451855410586942"
     },
     "user_tz": -120
    },
    "id": "2enENoFHpwuu",
    "outputId": "53b14dbc-2c23-4ad5-fcd9-1bbcc06487c4"
   },
   "outputs": [],
   "source": [
    "train_df = pd.read_csv(\"data/train.csv\")"
   ]
  },
  {
   "cell_type": "markdown",
   "metadata": {
    "colab_type": "text",
    "id": "4nVjvrqIskRq"
   },
   "source": [
    "\n"
   ]
  },
  {
   "cell_type": "markdown",
   "metadata": {
    "colab_type": "text",
    "id": "EQLCSmiSpwus"
   },
   "source": [
    "# Data exploration and preprocessnig"
   ]
  },
  {
   "cell_type": "code",
   "execution_count": 3,
   "metadata": {
    "colab": {
     "autoexec": {
      "startup": false,
      "wait_interval": 0
     },
     "base_uri": "https://localhost:8080/",
     "height": 319
    },
    "colab_type": "code",
    "executionInfo": {
     "elapsed": 1038,
     "status": "ok",
     "timestamp": 1525453145012,
     "user": {
      "displayName": "Daniel Piskorski",
      "photoUrl": "//lh3.googleusercontent.com/-YRTQPqbF3mQ/AAAAAAAAAAI/AAAAAAAABgI/8AJLSSrEZ48/s50-c-k-no/photo.jpg",
      "userId": "101159451855410586942"
     },
     "user_tz": -120
    },
    "id": "_iS7CNjWpwu2",
    "outputId": "51909f43-f7e3-461e-d799-4220772fd1be"
   },
   "outputs": [
    {
     "name": "stdout",
     "output_type": "stream",
     "text": [
      "<class 'pandas.core.frame.DataFrame'>\n",
      "RangeIndex: 1458644 entries, 0 to 1458643\n",
      "Data columns (total 11 columns):\n",
      "id                    1458644 non-null object\n",
      "vendor_id             1458644 non-null int64\n",
      "pickup_datetime       1458644 non-null object\n",
      "dropoff_datetime      1458644 non-null object\n",
      "passenger_count       1458644 non-null int64\n",
      "pickup_longitude      1458644 non-null float64\n",
      "pickup_latitude       1458644 non-null float64\n",
      "dropoff_longitude     1458644 non-null float64\n",
      "dropoff_latitude      1458644 non-null float64\n",
      "store_and_fwd_flag    1458644 non-null object\n",
      "trip_duration         1458644 non-null int64\n",
      "dtypes: float64(4), int64(3), object(4)\n",
      "memory usage: 122.4+ MB\n"
     ]
    }
   ],
   "source": [
    "train_df.info()"
   ]
  },
  {
   "cell_type": "markdown",
   "metadata": {
    "colab_type": "text",
    "id": "Q8C6kgSIpwvE"
   },
   "source": [
    "\n"
   ]
  },
  {
   "cell_type": "markdown",
   "metadata": {
    "colab_type": "text",
    "id": "Aijak0MopwvG"
   },
   "source": [
    "Define two functions for later use.\n"
   ]
  },
  {
   "cell_type": "code",
   "execution_count": 4,
   "metadata": {
    "colab": {
     "autoexec": {
      "startup": false,
      "wait_interval": 0
     }
    },
    "colab_type": "code",
    "id": "4uu-25VkpwvI"
   },
   "outputs": [],
   "source": [
    "def euklidian_dist(a_x,a_y,b_x,b_y):\n",
    "    return np.sqrt((a_x - b_x)**2 + (a_y - b_y)**2)\n",
    "\n",
    "def manhattan_dist(a_x,a_y,b_x,b_y):\n",
    "    return np.absolute(a_x - b_x) + np.absolute(a_y - b_y)"
   ]
  },
  {
   "cell_type": "markdown",
   "metadata": {
    "colab_type": "text",
    "id": "IaYjxrKTpwvM"
   },
   "source": [
    "\n"
   ]
  },
  {
   "cell_type": "markdown",
   "metadata": {
    "colab_type": "text",
    "id": "Aw6b1LKApwvO"
   },
   "source": [
    "Here we define our custom fields:\n",
    "    1. Transform field pickup_datetime to extract information about: month, day of the month, day of the week \n",
    "        and hour.\n",
    "        \n",
    "    2. Euklidian distance between pickup place and dropoff place.\n",
    "    \n",
    "    3. Mahattan distance between pickup place and dropoff place, because we operate in NYC.\n",
    "    \n",
    "    4. We also transform trip_duration field with log function."
   ]
  },
  {
   "cell_type": "code",
   "execution_count": 5,
   "metadata": {
    "colab": {
     "autoexec": {
      "startup": false,
      "wait_interval": 0
     }
    },
    "colab_type": "code",
    "id": "ycsUCQI9pwvQ"
   },
   "outputs": [],
   "source": [
    "train_df['datetime'] = pd.to_datetime(train_df.pickup_datetime)\n",
    "train_df['day_of_week'] = train_df.datetime.dt.dayofweek\n",
    "train_df['hour'] = train_df.datetime.dt.hour\n",
    "train_df['day_of_month'] = train_df.datetime.dt.day\n",
    "train_df['month'] = train_df.datetime.dt.month\n",
    "train_df['euklidian_distance'] = euklidian_dist(train_df.dropoff_latitude,  train_df.dropoff_longitude, train_df.pickup_latitude,train_df.pickup_longitude)\n",
    "train_df['manhattan_distance'] = manhattan_dist(train_df.dropoff_latitude,  train_df.dropoff_longitude, train_df.pickup_latitude,train_df.pickup_longitude)\n",
    "train_df['log_trip_duration'] = np.log(train_df.trip_duration)"
   ]
  },
  {
   "cell_type": "markdown",
   "metadata": {
    "colab_type": "text",
    "id": "rfqbOAgspwvY"
   },
   "source": [
    "\n"
   ]
  },
  {
   "cell_type": "code",
   "execution_count": 6,
   "metadata": {
    "colab": {
     "autoexec": {
      "startup": false,
      "wait_interval": 0
     }
    },
    "colab_type": "code",
    "id": "l71HAUmjpwvc"
   },
   "outputs": [
    {
     "data": {
      "text/html": [
       "<div>\n",
       "<style scoped>\n",
       "    .dataframe tbody tr th:only-of-type {\n",
       "        vertical-align: middle;\n",
       "    }\n",
       "\n",
       "    .dataframe tbody tr th {\n",
       "        vertical-align: top;\n",
       "    }\n",
       "\n",
       "    .dataframe thead th {\n",
       "        text-align: right;\n",
       "    }\n",
       "</style>\n",
       "<table border=\"1\" class=\"dataframe\">\n",
       "  <thead>\n",
       "    <tr style=\"text-align: right;\">\n",
       "      <th></th>\n",
       "      <th>id</th>\n",
       "      <th>vendor_id</th>\n",
       "      <th>pickup_datetime</th>\n",
       "      <th>dropoff_datetime</th>\n",
       "      <th>passenger_count</th>\n",
       "      <th>pickup_longitude</th>\n",
       "      <th>pickup_latitude</th>\n",
       "      <th>dropoff_longitude</th>\n",
       "      <th>dropoff_latitude</th>\n",
       "      <th>store_and_fwd_flag</th>\n",
       "      <th>trip_duration</th>\n",
       "      <th>datetime</th>\n",
       "      <th>day_of_week</th>\n",
       "      <th>hour</th>\n",
       "      <th>day_of_month</th>\n",
       "      <th>month</th>\n",
       "      <th>euklidian_distance</th>\n",
       "      <th>manhattan_distance</th>\n",
       "      <th>log_trip_duration</th>\n",
       "    </tr>\n",
       "  </thead>\n",
       "  <tbody>\n",
       "    <tr>\n",
       "      <th>0</th>\n",
       "      <td>id2875421</td>\n",
       "      <td>2</td>\n",
       "      <td>2016-03-14 17:24:55</td>\n",
       "      <td>2016-03-14 17:32:30</td>\n",
       "      <td>1</td>\n",
       "      <td>-73.982155</td>\n",
       "      <td>40.767937</td>\n",
       "      <td>-73.964630</td>\n",
       "      <td>40.765602</td>\n",
       "      <td>N</td>\n",
       "      <td>455</td>\n",
       "      <td>2016-03-14 17:24:55</td>\n",
       "      <td>0</td>\n",
       "      <td>17</td>\n",
       "      <td>14</td>\n",
       "      <td>3</td>\n",
       "      <td>0.017680</td>\n",
       "      <td>0.019859</td>\n",
       "      <td>6.120297</td>\n",
       "    </tr>\n",
       "    <tr>\n",
       "      <th>1</th>\n",
       "      <td>id2377394</td>\n",
       "      <td>1</td>\n",
       "      <td>2016-06-12 00:43:35</td>\n",
       "      <td>2016-06-12 00:54:38</td>\n",
       "      <td>1</td>\n",
       "      <td>-73.980415</td>\n",
       "      <td>40.738564</td>\n",
       "      <td>-73.999481</td>\n",
       "      <td>40.731152</td>\n",
       "      <td>N</td>\n",
       "      <td>663</td>\n",
       "      <td>2016-06-12 00:43:35</td>\n",
       "      <td>6</td>\n",
       "      <td>0</td>\n",
       "      <td>12</td>\n",
       "      <td>6</td>\n",
       "      <td>0.020456</td>\n",
       "      <td>0.026478</td>\n",
       "      <td>6.496775</td>\n",
       "    </tr>\n",
       "    <tr>\n",
       "      <th>2</th>\n",
       "      <td>id3858529</td>\n",
       "      <td>2</td>\n",
       "      <td>2016-01-19 11:35:24</td>\n",
       "      <td>2016-01-19 12:10:48</td>\n",
       "      <td>1</td>\n",
       "      <td>-73.979027</td>\n",
       "      <td>40.763939</td>\n",
       "      <td>-74.005333</td>\n",
       "      <td>40.710087</td>\n",
       "      <td>N</td>\n",
       "      <td>2124</td>\n",
       "      <td>2016-01-19 11:35:24</td>\n",
       "      <td>1</td>\n",
       "      <td>11</td>\n",
       "      <td>19</td>\n",
       "      <td>1</td>\n",
       "      <td>0.059934</td>\n",
       "      <td>0.080158</td>\n",
       "      <td>7.661056</td>\n",
       "    </tr>\n",
       "    <tr>\n",
       "      <th>3</th>\n",
       "      <td>id3504673</td>\n",
       "      <td>2</td>\n",
       "      <td>2016-04-06 19:32:31</td>\n",
       "      <td>2016-04-06 19:39:40</td>\n",
       "      <td>1</td>\n",
       "      <td>-74.010040</td>\n",
       "      <td>40.719971</td>\n",
       "      <td>-74.012268</td>\n",
       "      <td>40.706718</td>\n",
       "      <td>N</td>\n",
       "      <td>429</td>\n",
       "      <td>2016-04-06 19:32:31</td>\n",
       "      <td>2</td>\n",
       "      <td>19</td>\n",
       "      <td>6</td>\n",
       "      <td>4</td>\n",
       "      <td>0.013438</td>\n",
       "      <td>0.015480</td>\n",
       "      <td>6.061457</td>\n",
       "    </tr>\n",
       "    <tr>\n",
       "      <th>4</th>\n",
       "      <td>id2181028</td>\n",
       "      <td>2</td>\n",
       "      <td>2016-03-26 13:30:55</td>\n",
       "      <td>2016-03-26 13:38:10</td>\n",
       "      <td>1</td>\n",
       "      <td>-73.973053</td>\n",
       "      <td>40.793209</td>\n",
       "      <td>-73.972923</td>\n",
       "      <td>40.782520</td>\n",
       "      <td>N</td>\n",
       "      <td>435</td>\n",
       "      <td>2016-03-26 13:30:55</td>\n",
       "      <td>5</td>\n",
       "      <td>13</td>\n",
       "      <td>26</td>\n",
       "      <td>3</td>\n",
       "      <td>0.010690</td>\n",
       "      <td>0.010818</td>\n",
       "      <td>6.075346</td>\n",
       "    </tr>\n",
       "    <tr>\n",
       "      <th>5</th>\n",
       "      <td>id0801584</td>\n",
       "      <td>2</td>\n",
       "      <td>2016-01-30 22:01:40</td>\n",
       "      <td>2016-01-30 22:09:03</td>\n",
       "      <td>6</td>\n",
       "      <td>-73.982857</td>\n",
       "      <td>40.742195</td>\n",
       "      <td>-73.992081</td>\n",
       "      <td>40.749184</td>\n",
       "      <td>N</td>\n",
       "      <td>443</td>\n",
       "      <td>2016-01-30 22:01:40</td>\n",
       "      <td>5</td>\n",
       "      <td>22</td>\n",
       "      <td>30</td>\n",
       "      <td>1</td>\n",
       "      <td>0.011572</td>\n",
       "      <td>0.016212</td>\n",
       "      <td>6.093570</td>\n",
       "    </tr>\n",
       "    <tr>\n",
       "      <th>6</th>\n",
       "      <td>id1813257</td>\n",
       "      <td>1</td>\n",
       "      <td>2016-06-17 22:34:59</td>\n",
       "      <td>2016-06-17 22:40:40</td>\n",
       "      <td>4</td>\n",
       "      <td>-73.969017</td>\n",
       "      <td>40.757839</td>\n",
       "      <td>-73.957405</td>\n",
       "      <td>40.765896</td>\n",
       "      <td>N</td>\n",
       "      <td>341</td>\n",
       "      <td>2016-06-17 22:34:59</td>\n",
       "      <td>4</td>\n",
       "      <td>22</td>\n",
       "      <td>17</td>\n",
       "      <td>6</td>\n",
       "      <td>0.014133</td>\n",
       "      <td>0.019669</td>\n",
       "      <td>5.831882</td>\n",
       "    </tr>\n",
       "    <tr>\n",
       "      <th>7</th>\n",
       "      <td>id1324603</td>\n",
       "      <td>2</td>\n",
       "      <td>2016-05-21 07:54:58</td>\n",
       "      <td>2016-05-21 08:20:49</td>\n",
       "      <td>1</td>\n",
       "      <td>-73.969276</td>\n",
       "      <td>40.797779</td>\n",
       "      <td>-73.922470</td>\n",
       "      <td>40.760559</td>\n",
       "      <td>N</td>\n",
       "      <td>1551</td>\n",
       "      <td>2016-05-21 07:54:58</td>\n",
       "      <td>5</td>\n",
       "      <td>7</td>\n",
       "      <td>21</td>\n",
       "      <td>5</td>\n",
       "      <td>0.059801</td>\n",
       "      <td>0.084026</td>\n",
       "      <td>7.346655</td>\n",
       "    </tr>\n",
       "    <tr>\n",
       "      <th>8</th>\n",
       "      <td>id1301050</td>\n",
       "      <td>1</td>\n",
       "      <td>2016-05-27 23:12:23</td>\n",
       "      <td>2016-05-27 23:16:38</td>\n",
       "      <td>1</td>\n",
       "      <td>-73.999481</td>\n",
       "      <td>40.738400</td>\n",
       "      <td>-73.985786</td>\n",
       "      <td>40.732815</td>\n",
       "      <td>N</td>\n",
       "      <td>255</td>\n",
       "      <td>2016-05-27 23:12:23</td>\n",
       "      <td>4</td>\n",
       "      <td>23</td>\n",
       "      <td>27</td>\n",
       "      <td>5</td>\n",
       "      <td>0.014790</td>\n",
       "      <td>0.019279</td>\n",
       "      <td>5.541264</td>\n",
       "    </tr>\n",
       "    <tr>\n",
       "      <th>9</th>\n",
       "      <td>id0012891</td>\n",
       "      <td>2</td>\n",
       "      <td>2016-03-10 21:45:01</td>\n",
       "      <td>2016-03-10 22:05:26</td>\n",
       "      <td>1</td>\n",
       "      <td>-73.981049</td>\n",
       "      <td>40.744339</td>\n",
       "      <td>-73.973000</td>\n",
       "      <td>40.789989</td>\n",
       "      <td>N</td>\n",
       "      <td>1225</td>\n",
       "      <td>2016-03-10 21:45:01</td>\n",
       "      <td>3</td>\n",
       "      <td>21</td>\n",
       "      <td>10</td>\n",
       "      <td>3</td>\n",
       "      <td>0.046355</td>\n",
       "      <td>0.053699</td>\n",
       "      <td>7.110696</td>\n",
       "    </tr>\n",
       "    <tr>\n",
       "      <th>10</th>\n",
       "      <td>id1436371</td>\n",
       "      <td>2</td>\n",
       "      <td>2016-05-10 22:08:41</td>\n",
       "      <td>2016-05-10 22:29:55</td>\n",
       "      <td>1</td>\n",
       "      <td>-73.982651</td>\n",
       "      <td>40.763840</td>\n",
       "      <td>-74.002228</td>\n",
       "      <td>40.732990</td>\n",
       "      <td>N</td>\n",
       "      <td>1274</td>\n",
       "      <td>2016-05-10 22:08:41</td>\n",
       "      <td>1</td>\n",
       "      <td>22</td>\n",
       "      <td>10</td>\n",
       "      <td>5</td>\n",
       "      <td>0.036537</td>\n",
       "      <td>0.050426</td>\n",
       "      <td>7.149917</td>\n",
       "    </tr>\n",
       "  </tbody>\n",
       "</table>\n",
       "</div>"
      ],
      "text/plain": [
       "           id  vendor_id      pickup_datetime     dropoff_datetime  \\\n",
       "0   id2875421          2  2016-03-14 17:24:55  2016-03-14 17:32:30   \n",
       "1   id2377394          1  2016-06-12 00:43:35  2016-06-12 00:54:38   \n",
       "2   id3858529          2  2016-01-19 11:35:24  2016-01-19 12:10:48   \n",
       "3   id3504673          2  2016-04-06 19:32:31  2016-04-06 19:39:40   \n",
       "4   id2181028          2  2016-03-26 13:30:55  2016-03-26 13:38:10   \n",
       "5   id0801584          2  2016-01-30 22:01:40  2016-01-30 22:09:03   \n",
       "6   id1813257          1  2016-06-17 22:34:59  2016-06-17 22:40:40   \n",
       "7   id1324603          2  2016-05-21 07:54:58  2016-05-21 08:20:49   \n",
       "8   id1301050          1  2016-05-27 23:12:23  2016-05-27 23:16:38   \n",
       "9   id0012891          2  2016-03-10 21:45:01  2016-03-10 22:05:26   \n",
       "10  id1436371          2  2016-05-10 22:08:41  2016-05-10 22:29:55   \n",
       "\n",
       "    passenger_count  pickup_longitude  pickup_latitude  dropoff_longitude  \\\n",
       "0                 1        -73.982155        40.767937         -73.964630   \n",
       "1                 1        -73.980415        40.738564         -73.999481   \n",
       "2                 1        -73.979027        40.763939         -74.005333   \n",
       "3                 1        -74.010040        40.719971         -74.012268   \n",
       "4                 1        -73.973053        40.793209         -73.972923   \n",
       "5                 6        -73.982857        40.742195         -73.992081   \n",
       "6                 4        -73.969017        40.757839         -73.957405   \n",
       "7                 1        -73.969276        40.797779         -73.922470   \n",
       "8                 1        -73.999481        40.738400         -73.985786   \n",
       "9                 1        -73.981049        40.744339         -73.973000   \n",
       "10                1        -73.982651        40.763840         -74.002228   \n",
       "\n",
       "    dropoff_latitude store_and_fwd_flag  trip_duration            datetime  \\\n",
       "0          40.765602                  N            455 2016-03-14 17:24:55   \n",
       "1          40.731152                  N            663 2016-06-12 00:43:35   \n",
       "2          40.710087                  N           2124 2016-01-19 11:35:24   \n",
       "3          40.706718                  N            429 2016-04-06 19:32:31   \n",
       "4          40.782520                  N            435 2016-03-26 13:30:55   \n",
       "5          40.749184                  N            443 2016-01-30 22:01:40   \n",
       "6          40.765896                  N            341 2016-06-17 22:34:59   \n",
       "7          40.760559                  N           1551 2016-05-21 07:54:58   \n",
       "8          40.732815                  N            255 2016-05-27 23:12:23   \n",
       "9          40.789989                  N           1225 2016-03-10 21:45:01   \n",
       "10         40.732990                  N           1274 2016-05-10 22:08:41   \n",
       "\n",
       "    day_of_week  hour  day_of_month  month  euklidian_distance  \\\n",
       "0             0    17            14      3            0.017680   \n",
       "1             6     0            12      6            0.020456   \n",
       "2             1    11            19      1            0.059934   \n",
       "3             2    19             6      4            0.013438   \n",
       "4             5    13            26      3            0.010690   \n",
       "5             5    22            30      1            0.011572   \n",
       "6             4    22            17      6            0.014133   \n",
       "7             5     7            21      5            0.059801   \n",
       "8             4    23            27      5            0.014790   \n",
       "9             3    21            10      3            0.046355   \n",
       "10            1    22            10      5            0.036537   \n",
       "\n",
       "    manhattan_distance  log_trip_duration  \n",
       "0             0.019859           6.120297  \n",
       "1             0.026478           6.496775  \n",
       "2             0.080158           7.661056  \n",
       "3             0.015480           6.061457  \n",
       "4             0.010818           6.075346  \n",
       "5             0.016212           6.093570  \n",
       "6             0.019669           5.831882  \n",
       "7             0.084026           7.346655  \n",
       "8             0.019279           5.541264  \n",
       "9             0.053699           7.110696  \n",
       "10            0.050426           7.149917  "
      ]
     },
     "execution_count": 6,
     "metadata": {},
     "output_type": "execute_result"
    }
   ],
   "source": [
    "#actual data frame\n",
    "train_df[:11]"
   ]
  },
  {
   "cell_type": "markdown",
   "metadata": {
    "colab_type": "text",
    "id": "mNixOLqgpwvi"
   },
   "source": [
    "\n"
   ]
  },
  {
   "cell_type": "markdown",
   "metadata": {
    "colab_type": "text",
    "id": "x6ljDyHTpwvk"
   },
   "source": [
    "We tranform use log function on trip_duration, because it is supposed reduce skeewnes.\n",
    "\n",
    "More on that here\n",
    "https://becominghuman.ai/how-to-deal-with-skewed-dataset-in-machine-learning-afd2928011cc\n",
    "\n",
    "All I know is that can help with regression in some cases, and it was true in ours.\n",
    "\n",
    "Here is what is correlation between given fields and a trip_duration, it gives us information how each field influences the output:\n"
   ]
  },
  {
   "cell_type": "code",
   "execution_count": 7,
   "metadata": {
    "colab": {
     "autoexec": {
      "startup": false,
      "wait_interval": 0
     },
     "base_uri": "https://localhost:8080/",
     "height": 300
    },
    "colab_type": "code",
    "executionInfo": {
     "elapsed": 666,
     "status": "ok",
     "timestamp": 1525453151898,
     "user": {
      "displayName": "Daniel Piskorski",
      "photoUrl": "//lh3.googleusercontent.com/-YRTQPqbF3mQ/AAAAAAAAAAI/AAAAAAAABgI/8AJLSSrEZ48/s50-c-k-no/photo.jpg",
      "userId": "101159451855410586942"
     },
     "user_tz": -120
    },
    "id": "QngPHq8cpwvm",
    "outputId": "bae8bf76-0e81-4d99-fc7c-cea85816c4cc"
   },
   "outputs": [
    {
     "name": "stdout",
     "output_type": "stream",
     "text": [
      "trip_duration         1.000000\n",
      "log_trip_duration     0.252624\n",
      "euklidian_distance    0.095368\n",
      "manhattan_distance    0.094738\n",
      "pickup_longitude      0.026542\n",
      "vendor_id             0.020304\n",
      "dropoff_longitude     0.014678\n",
      "passenger_count       0.008471\n",
      "month                 0.006607\n",
      "hour                  0.003690\n",
      "day_of_month          0.000566\n",
      "day_of_week          -0.000708\n",
      "dropoff_latitude     -0.020677\n",
      "pickup_latitude      -0.029204\n",
      "Name: trip_duration, dtype: float64\n"
     ]
    }
   ],
   "source": [
    "corr = train_df.corr()\n",
    "print(corr[\"trip_duration\"].sort_values(ascending = False))"
   ]
  },
  {
   "cell_type": "markdown",
   "metadata": {
    "colab_type": "text",
    "id": "wM6JtwSBFli8"
   },
   "source": [
    "\n"
   ]
  },
  {
   "cell_type": "markdown",
   "metadata": {
    "colab_type": "text",
    "id": "9IV7Tuaxpwv0"
   },
   "source": [
    "And here is correlation betwen given fields and log_trip_duration:\n"
   ]
  },
  {
   "cell_type": "code",
   "execution_count": 8,
   "metadata": {
    "colab": {
     "autoexec": {
      "startup": false,
      "wait_interval": 0
     },
     "base_uri": "https://localhost:8080/",
     "height": 300
    },
    "colab_type": "code",
    "executionInfo": {
     "elapsed": 888,
     "status": "ok",
     "timestamp": 1525453152972,
     "user": {
      "displayName": "Daniel Piskorski",
      "photoUrl": "//lh3.googleusercontent.com/-YRTQPqbF3mQ/AAAAAAAAAAI/AAAAAAAABgI/8AJLSSrEZ48/s50-c-k-no/photo.jpg",
      "userId": "101159451855410586942"
     },
     "user_tz": -120
    },
    "id": "IdDHcEPtpwv2",
    "outputId": "2c3a95ec-4335-4dc9-c367-2d1121f769c7"
   },
   "outputs": [
    {
     "name": "stdout",
     "output_type": "stream",
     "text": [
      "log_trip_duration     1.000000\n",
      "euklidian_distance    0.567401\n",
      "manhattan_distance    0.561209\n",
      "trip_duration         0.252624\n",
      "pickup_longitude      0.110344\n",
      "dropoff_longitude     0.071411\n",
      "month                 0.046488\n",
      "hour                  0.039107\n",
      "passenger_count       0.021124\n",
      "vendor_id             0.019833\n",
      "day_of_month          0.010385\n",
      "day_of_week          -0.027817\n",
      "dropoff_latitude     -0.123265\n",
      "pickup_latitude      -0.144149\n",
      "Name: log_trip_duration, dtype: float64\n"
     ]
    }
   ],
   "source": [
    "print(corr[\"log_trip_duration\"].sort_values(ascending = False))"
   ]
  },
  {
   "cell_type": "markdown",
   "metadata": {
    "colab_type": "text",
    "id": "VG3Ij_fMECT8"
   },
   "source": [
    "\n"
   ]
  },
  {
   "cell_type": "markdown",
   "metadata": {
    "colab_type": "text",
    "id": "cnT3oaJqpwwA"
   },
   "source": [
    "\n"
   ]
  },
  {
   "cell_type": "code",
   "execution_count": 9,
   "metadata": {
    "colab": {
     "autoexec": {
      "startup": false,
      "wait_interval": 0
     },
     "base_uri": "https://localhost:8080/",
     "height": 149
    },
    "colab_type": "code",
    "executionInfo": {
     "elapsed": 1142,
     "status": "ok",
     "timestamp": 1525453154280,
     "user": {
      "displayName": "Daniel Piskorski",
      "photoUrl": "//lh3.googleusercontent.com/-YRTQPqbF3mQ/AAAAAAAAAAI/AAAAAAAABgI/8AJLSSrEZ48/s50-c-k-no/photo.jpg",
      "userId": "101159451855410586942"
     },
     "user_tz": -120
    },
    "id": "k8K_-BQGpwwE",
    "outputId": "dff4feaa-937c-426d-8fdc-3f8e1e697358"
   },
   "outputs": [
    {
     "data": {
      "text/plain": [
       "Index(['id', 'vendor_id', 'pickup_datetime', 'dropoff_datetime',\n",
       "       'passenger_count', 'pickup_longitude', 'pickup_latitude',\n",
       "       'dropoff_longitude', 'dropoff_latitude', 'store_and_fwd_flag',\n",
       "       'trip_duration', 'datetime', 'day_of_week', 'hour', 'day_of_month',\n",
       "       'month', 'euklidian_distance', 'manhattan_distance',\n",
       "       'log_trip_duration'],\n",
       "      dtype='object')"
      ]
     },
     "execution_count": 9,
     "metadata": {},
     "output_type": "execute_result"
    }
   ],
   "source": [
    "#column names\n",
    "train_df.columns"
   ]
  },
  {
   "cell_type": "markdown",
   "metadata": {
    "colab_type": "text",
    "id": "B2e-KpgypwwQ"
   },
   "source": [
    "\n"
   ]
  },
  {
   "cell_type": "markdown",
   "metadata": {
    "colab_type": "text",
    "id": "WAYX5qZBpwwQ"
   },
   "source": [
    "\n"
   ]
  },
  {
   "cell_type": "code",
   "execution_count": 10,
   "metadata": {
    "colab": {
     "autoexec": {
      "startup": false,
      "wait_interval": 0
     }
    },
    "colab_type": "code",
    "id": "TKbIw-vdpwwU"
   },
   "outputs": [],
   "source": [
    "train_X = train_df[[\n",
    "       'pickup_longitude', 'pickup_latitude',\n",
    "       'dropoff_longitude', 'dropoff_latitude',\n",
    "       'hour', 'month', \n",
    "       'euklidian_distance', 'manhattan_distance',\n",
    "       ]].values\n",
    "\n",
    "\n",
    "train_y = train_df['log_trip_duration'].values"
   ]
  },
  {
   "cell_type": "code",
   "execution_count": 11,
   "metadata": {},
   "outputs": [
    {
     "data": {
      "text/plain": [
       "array([ -7.39804153e+01,   4.07385635e+01,  -7.39994812e+01,\n",
       "         4.07311516e+01,   0.00000000e+00,   6.00000000e+00,\n",
       "         2.04559039e-02,   2.64778137e-02])"
      ]
     },
     "execution_count": 11,
     "metadata": {},
     "output_type": "execute_result"
    }
   ],
   "source": []
  },
  {
   "cell_type": "markdown",
   "metadata": {
    "colab_type": "text",
    "id": "hxwfqYg0D_UQ"
   },
   "source": [
    "\n"
   ]
  },
  {
   "cell_type": "code",
   "execution_count": 11,
   "metadata": {
    "colab": {
     "autoexec": {
      "startup": false,
      "wait_interval": 0
     },
     "base_uri": "https://localhost:8080/",
     "height": 262
    },
    "colab_type": "code",
    "executionInfo": {
     "elapsed": 818,
     "status": "ok",
     "timestamp": 1525453156540,
     "user": {
      "displayName": "Daniel Piskorski",
      "photoUrl": "//lh3.googleusercontent.com/-YRTQPqbF3mQ/AAAAAAAAAAI/AAAAAAAABgI/8AJLSSrEZ48/s50-c-k-no/photo.jpg",
      "userId": "101159451855410586942"
     },
     "user_tz": -120
    },
    "id": "ZO7FR4pZpwwc",
    "outputId": "d893f246-8c1f-4e64-bcd3-a6be2124ba19"
   },
   "outputs": [
    {
     "data": {
      "text/plain": [
       "array([[ -7.39821548e+01,   4.07679367e+01,  -7.39646301e+01, ...,\n",
       "          3.00000000e+00,   1.76795395e-02,   1.98593140e-02],\n",
       "       [ -7.39804153e+01,   4.07385635e+01,  -7.39994812e+01, ...,\n",
       "          6.00000000e+00,   2.04559039e-02,   2.64778137e-02],\n",
       "       [ -7.39790268e+01,   4.07639389e+01,  -7.40053329e+01, ...,\n",
       "          1.00000000e+00,   5.99337994e-02,   8.01582336e-02],\n",
       "       ..., \n",
       "       [ -7.39591293e+01,   4.07687988e+01,  -7.40044327e+01, ...,\n",
       "          4.00000000e+00,   7.63269339e-02,   1.06731415e-01],\n",
       "       [ -7.39820786e+01,   4.07490616e+01,  -7.39746323e+01, ...,\n",
       "          1.00000000e+00,   1.09623176e-02,   1.54914856e-02],\n",
       "       [ -7.39795380e+01,   4.07817497e+01,  -7.39728088e+01, ...,\n",
       "          4.00000000e+00,   1.11056524e-02,   1.55639648e-02]])"
      ]
     },
     "execution_count": 11,
     "metadata": {},
     "output_type": "execute_result"
    }
   ],
   "source": [
    "train_X"
   ]
  },
  {
   "cell_type": "markdown",
   "metadata": {
    "colab_type": "text",
    "id": "ccgeZ1ZBpwwi"
   },
   "source": [
    "\n"
   ]
  },
  {
   "cell_type": "markdown",
   "metadata": {
    "colab_type": "text",
    "id": "DlYlB4W_pwwi"
   },
   "source": [
    "We scale our input. By calculating mean of each column, and then dividing each element by mean of column it is in. After that operation all input fields should be moreover the same."
   ]
  },
  {
   "cell_type": "code",
   "execution_count": 12,
   "metadata": {
    "colab": {
     "autoexec": {
      "startup": false,
      "wait_interval": 0
     }
    },
    "colab_type": "code",
    "id": "orEovASKpwwk"
   },
   "outputs": [],
   "source": [
    "means = np.array([np.mean(train_X[:,i]) for i in range(len(train_X[0]))])\n",
    "train_X = train_X / means"
   ]
  },
  {
   "cell_type": "code",
   "execution_count": 13,
   "metadata": {},
   "outputs": [
    {
     "data": {
      "text/plain": [
       "array([ 1.00009367,  0.99969676,  1.00035236,  0.99949332,  0.        ,\n",
       "        1.70608788,  0.57650972,  0.57684401])"
      ]
     },
     "execution_count": 13,
     "metadata": {},
     "output_type": "execute_result"
    }
   ],
   "source": [
    "train_X[1]"
   ]
  },
  {
   "cell_type": "markdown",
   "metadata": {
    "colab_type": "text",
    "id": "gOq5dMk6pwws"
   },
   "source": [
    "\n"
   ]
  },
  {
   "cell_type": "markdown",
   "metadata": {
    "colab_type": "text",
    "id": "za7BagVwpwws"
   },
   "source": [
    "We now can check correlation betwen input fields. We visualize that with matrix."
   ]
  },
  {
   "cell_type": "code",
   "execution_count": 13,
   "metadata": {
    "colab": {
     "autoexec": {
      "startup": false,
      "wait_interval": 0
     },
     "base_uri": "https://localhost:8080/",
     "height": 326
    },
    "colab_type": "code",
    "executionInfo": {
     "elapsed": 1798,
     "status": "ok",
     "timestamp": 1525453161158,
     "user": {
      "displayName": "Daniel Piskorski",
      "photoUrl": "//lh3.googleusercontent.com/-YRTQPqbF3mQ/AAAAAAAAAAI/AAAAAAAABgI/8AJLSSrEZ48/s50-c-k-no/photo.jpg",
      "userId": "101159451855410586942"
     },
     "user_tz": -120
    },
    "id": "OxF8U_l3pwwu",
    "outputId": "10154f5e-6fd9-41c4-a158-fd92a8141af7"
   },
   "outputs": [
    {
     "data": {
      "image/png": "[encoded data removed]",
      "text/plain": [
       "<matplotlib.figure.Figure at 0x7fcbbee68550>"
      ]
     },
     "metadata": {},
     "output_type": "display_data"
    }
   ],
   "source": [
    "import matplotlib.pyplot as plt\n",
    "cov_data = np.corrcoef(train_X.T)\n",
    "img = plt.matshow(cov_data, cmap=plt.cm.rainbow)\n",
    "plt.colorbar(img, ticks=[-1, 0, 1],fraction=0.045)\n",
    "for x in range(cov_data.shape[0]):\n",
    "    for y in range(cov_data.shape[1]):\n",
    "        plt.text(x,y, \"%0.2f\" % cov_data[x,y], \n",
    "             size=6, color='black', ha=\"center\", va=\"center\")\n",
    "plt.show()"
   ]
  },
  {
   "cell_type": "markdown",
   "metadata": {
    "colab_type": "text",
    "id": "zYJkeNfvF79K"
   },
   "source": [
    "We do not see very strong correlation betwen features apart from **euklidian_distance** and **manhattan_distance** which is not that big of surprise. However have decided to use both euklidian and manhattan distance, because this configuration gave us the best results"
   ]
  },
  {
   "cell_type": "markdown",
   "metadata": {
    "colab_type": "text",
    "id": "NSi5hFyxF8gO"
   },
   "source": [
    "\n"
   ]
  },
  {
   "cell_type": "markdown",
   "metadata": {
    "colab_type": "text",
    "id": "O7llliUAG2JA"
   },
   "source": [
    "We select 8 features for model training:\n",
    "\n",
    "1. euklidian_distance (calculated from coordinates)\n",
    "2. manhattan_distance (calculated from coordinates)\n",
    "3. pickup_latitude\n",
    "4. pickup_longitude\n",
    "5. dropoff_latitude\n",
    "6. dropoff_longitude\n",
    "7. month\n",
    "8. hour"
   ]
  },
  {
   "cell_type": "markdown",
   "metadata": {
    "colab_type": "text",
    "id": "efFt_KmApwxM"
   },
   "source": [
    "# Model testing"
   ]
  },
  {
   "cell_type": "markdown",
   "metadata": {
    "colab_type": "text",
    "id": "RhdDvPTDHAyi"
   },
   "source": [
    "To test performance of models we use cross validation. Given data is randomly splited, with first part of dataset model is trained, and other part is used for testing. This process is repeated two times.\n",
    "\n",
    "\n",
    "We use **NEGATIVE MEAN SQUARED ERROR** as a scoring function.\n",
    "\n",
    "After that we calculate mean and standard error of all tests."
   ]
  },
  {
   "cell_type": "markdown",
   "metadata": {
    "colab_type": "text",
    "id": "Y0C-E3_xIrbk"
   },
   "source": [
    "\n"
   ]
  },
  {
   "cell_type": "markdown",
   "metadata": {
    "colab_type": "text",
    "id": "txU-pd15pwxO"
   },
   "source": [
    "**1. Support vector machine with liear kernel**"
   ]
  },
  {
   "cell_type": "code",
   "execution_count": 22,
   "metadata": {
    "colab": {
     "autoexec": {
      "startup": false,
      "wait_interval": 0
     },
     "base_uri": "https://localhost:8080/",
     "height": 36
    },
    "colab_type": "code",
    "executionInfo": {
     "elapsed": 50370,
     "status": "ok",
     "timestamp": 1525452306176,
     "user": {
      "displayName": "Daniel Piskorski",
      "photoUrl": "//lh3.googleusercontent.com/-YRTQPqbF3mQ/AAAAAAAAAAI/AAAAAAAABgI/8AJLSSrEZ48/s50-c-k-no/photo.jpg",
      "userId": "101159451855410586942"
     },
     "user_tz": -120
    },
    "id": "7bgYznW5pwxQ",
    "outputId": "be0d74fd-6dac-466d-aaa7-b2faf529d8e6"
   },
   "outputs": [
    {
     "name": "stdout",
     "output_type": "stream",
     "text": [
      "average: -0.4029606009563827 std: 0.0035690115845566917\n"
     ]
    }
   ],
   "source": [
    "from sklearn.svm import SVR\n",
    "\n",
    "model = SVR(kernel='linear',C=1)\n",
    "score = cross_val_score(model, train_X[:100000], train_y[:100000], scoring='neg_mean_squared_error', cv=2)\n",
    "print(\"average: {} std: {}\".format(score.mean(), score.std()*2))"
   ]
  },
  {
   "cell_type": "markdown",
   "metadata": {
    "colab_type": "text",
    "id": "gADxUehsRZwy"
   },
   "source": [
    "\n"
   ]
  },
  {
   "cell_type": "markdown",
   "metadata": {
    "colab_type": "text",
    "id": "G0syBA-apwxc"
   },
   "source": [
    "**2. Svm with radian based function kernel**"
   ]
  },
  {
   "cell_type": "code",
   "execution_count": 31,
   "metadata": {
    "colab": {
     "autoexec": {
      "startup": false,
      "wait_interval": 0
     },
     "base_uri": "https://localhost:8080/",
     "height": 36
    },
    "colab_type": "code",
    "executionInfo": {
     "elapsed": 46672,
     "status": "ok",
     "timestamp": 1524332163026,
     "user": {
      "displayName": "Daniel Piskorski",
      "photoUrl": "//lh3.googleusercontent.com/-YRTQPqbF3mQ/AAAAAAAAAAI/AAAAAAAABgI/8AJLSSrEZ48/s50-c-k-no/photo.jpg",
      "userId": "101159451855410586942"
     },
     "user_tz": -120
    },
    "id": "q42wKnuGpwxe",
    "outputId": "48476025-e7e5-4214-fd72-f0d15274334c"
   },
   "outputs": [
    {
     "name": "stdout",
     "output_type": "stream",
     "text": [
      "average: -0.5718316168537649 std: 0.009856788742861333\n"
     ]
    }
   ],
   "source": [
    "from sklearn.svm import SVR\n",
    "model =  SVR(kernel='rbf', C=1)\n",
    "score = cross_val_score(model, train_X[:100000], train_y[:100000], scoring='neg_mean_absolute_error', cv=2)\n",
    "print(\"average: {} std: {}\".format(score.mean(), score.std()*2))\n",
    "\n"
   ]
  },
  {
   "cell_type": "markdown",
   "metadata": {
    "colab_type": "text",
    "id": "WOFepo33XY9I"
   },
   "source": [
    "\n"
   ]
  },
  {
   "cell_type": "markdown",
   "metadata": {
    "colab_type": "text",
    "id": "MRR1zylLpwxy"
   },
   "source": [
    "**3. Extra Trees regressor**\n"
   ]
  },
  {
   "cell_type": "code",
   "execution_count": 51,
   "metadata": {
    "colab": {
     "autoexec": {
      "startup": false,
      "wait_interval": 0
     },
     "base_uri": "https://localhost:8080/",
     "height": 36
    },
    "colab_type": "code",
    "executionInfo": {
     "elapsed": 6606,
     "status": "ok",
     "timestamp": 1525459198076,
     "user": {
      "displayName": "Daniel Piskorski",
      "photoUrl": "//lh3.googleusercontent.com/-YRTQPqbF3mQ/AAAAAAAAAAI/AAAAAAAABgI/8AJLSSrEZ48/s50-c-k-no/photo.jpg",
      "userId": "101159451855410586942"
     },
     "user_tz": -120
    },
    "id": "bSMGxxyhpwyE",
    "outputId": "fa92b37d-53da-42cc-af62-0a57aa907ac0"
   },
   "outputs": [
    {
     "name": "stdout",
     "output_type": "stream",
     "text": [
      "average: -0.2112642692752844 std: 0.001417616736263505\n"
     ]
    }
   ],
   "source": [
    "from sklearn.ensemble import ExtraTreesRegressor\n",
    "model = ExtraTreesRegressor(n_estimators=30, criterion='mse',n_jobs=-1)\n",
    "score = cross_val_score(model, train_X[:100000], train_y[:100000], scoring='neg_mean_squared_error', cv=2)\n",
    "print(\"average: {} std: {}\".format(score.mean(), score.std()*2))"
   ]
  },
  {
   "cell_type": "markdown",
   "metadata": {
    "colab_type": "text",
    "id": "oZC5HjOomzfa"
   },
   "source": [
    "\n"
   ]
  },
  {
   "cell_type": "markdown",
   "metadata": {
    "colab_type": "text",
    "id": "ElWmMVDjnJY6"
   },
   "source": [
    "**4 .Gradient Boosted Trees**"
   ]
  },
  {
   "cell_type": "code",
   "execution_count": 20,
   "metadata": {
    "colab": {
     "autoexec": {
      "startup": false,
      "wait_interval": 0
     },
     "base_uri": "https://localhost:8080/",
     "height": 36
    },
    "colab_type": "code",
    "executionInfo": {
     "elapsed": 2225226,
     "status": "ok",
     "timestamp": 1524329071930,
     "user": {
      "displayName": "Daniel Piskorski",
      "photoUrl": "//lh3.googleusercontent.com/-YRTQPqbF3mQ/AAAAAAAAAAI/AAAAAAAABgI/8AJLSSrEZ48/s50-c-k-no/photo.jpg",
      "userId": "101159451855410586942"
     },
     "user_tz": -120
    },
    "id": "D8Hrp1tLy2xY",
    "outputId": "4a9a88fe-07f9-48e1-ed8b-761c71589456"
   },
   "outputs": [
    {
     "name": "stdout",
     "output_type": "stream",
     "text": [
      "average: -0.20860082611219993 std: 0.005568361927162313\n"
     ]
    }
   ],
   "source": [
    "from sklearn.ensemble import GradientBoostingRegressor\n",
    "model = GradientBoostingRegressor(criterion='mae')\n",
    "score = cross_val_score(model, train_X[:100000], train_y[:100000], scoring='neg_mean_squared_error', cv=2)\n",
    "print(\"average: {} std: {}\".format(score.mean(), score.std()*2))"
   ]
  },
  {
   "cell_type": "markdown",
   "metadata": {
    "colab_type": "text",
    "id": "jtzHYAODnIr-"
   },
   "source": [
    "\n",
    "\n",
    "\n"
   ]
  },
  {
   "cell_type": "markdown",
   "metadata": {
    "colab_type": "text",
    "id": "vu97Y8Cnn-ng"
   },
   "source": [
    "**5. NN**"
   ]
  },
  {
   "cell_type": "code",
   "execution_count": 54,
   "metadata": {
    "colab": {
     "autoexec": {
      "startup": false,
      "wait_interval": 0
     },
     "base_uri": "https://localhost:8080/",
     "height": 36
    },
    "colab_type": "code",
    "executionInfo": {
     "elapsed": 554,
     "status": "ok",
     "timestamp": 1524341813208,
     "user": {
      "displayName": "Daniel Piskorski",
      "photoUrl": "//lh3.googleusercontent.com/-YRTQPqbF3mQ/AAAAAAAAAAI/AAAAAAAABgI/8AJLSSrEZ48/s50-c-k-no/photo.jpg",
      "userId": "101159451855410586942"
     },
     "user_tz": -120
    },
    "id": "1jNgReT-qDuA",
    "outputId": "229501fa-7fbe-448a-dbef-e61cdb40925f"
   },
   "outputs": [
    {
     "data": {
      "text/plain": [
       "12"
      ]
     },
     "execution_count": 54,
     "metadata": {
      "tags": []
     },
     "output_type": "execute_result"
    }
   ],
   "source": [
    "#Input data dimention\n",
    "len(train_X[0])"
   ]
  },
  {
   "cell_type": "markdown",
   "metadata": {
    "colab_type": "text",
    "id": "puYsI8uJz_eo"
   },
   "source": [
    "We created three diferent neural network models for testing."
   ]
  },
  {
   "cell_type": "code",
   "execution_count": 0,
   "metadata": {
    "colab": {
     "autoexec": {
      "startup": false,
      "wait_interval": 0
     }
    },
    "colab_type": "code",
    "id": "AiXEYsIdnlpa"
   },
   "outputs": [],
   "source": [
    "from keras.layers import Dense\n",
    "from keras.models import Sequential\n",
    "from keras.wrappers.scikit_learn import KerasRegressor\n",
    "\n",
    "\n",
    "#One deep layer with twelve units\n",
    "\n",
    "def baseline_model():\n",
    "  model = Sequential()\n",
    "  model.add(Dense(12, input_dim=12, kernel_initializer='normal', activation='relu'))\n",
    "  model.add(Dense(1, kernel_initializer='normal'))\n",
    "\n",
    "  model.compile(loss='mean_squared_error', optimizer='adam')\n",
    "  return model\n",
    "\n",
    "\n",
    "\n",
    "\n",
    "def deep_model():\n",
    "  model = Sequential()\n",
    "  model.add(Dense(12, input_dim=12, kernel_initializer='normal', activation='relu'))\n",
    "  model.add(Dense(6, kernel_initializer='normal', activation='relu'))\n",
    "  model.add(Dense(1, kernel_initializer='normal'))\n",
    "\n",
    "  model.compile(loss='mean_squared_error', optimizer='adam')\n",
    "  return model\n",
    "\n",
    "\n",
    "\n",
    "\n",
    "def wide_model():\n",
    "  model = Sequential()\n",
    "  model.add(Dense(20 ,input_dim=12,kernel_initializer='normal', activation='relu'))\n",
    "  model.add(Dense(1, kernel_initializer='normal'))\n",
    "\n",
    "  model.compile(loss='mean_squared_error', optimizer='adam')\n",
    "  return model\n",
    "\n",
    "\n",
    "\n",
    "\n",
    "\n",
    "def super_model():\n",
    "  model = Sequential()\n",
    "  model.add(Dense(20 ,input_dim=12,kernel_initializer='normal', activation='linear'))\n",
    "  model.add(Dense(30 ,input_dim=12,kernel_initializer='normal', activation='linear'))\n",
    "  model.add(Dense(20 ,input_dim=12,kernel_initializer='normal', activation='linear'))\n",
    "  model.add(Dense(1, kernel_initializer='normal'))\n",
    "\n",
    "  model.compile(loss='mean_squared_error', optimizer='adam')\n",
    "  return model\n",
    "\n"
   ]
  },
  {
   "cell_type": "markdown",
   "metadata": {
    "colab_type": "text",
    "id": "eBRzsPt8ByBA"
   },
   "source": [
    "**baseline model** is neural network with one deep layer containing 12 units."
   ]
  },
  {
   "cell_type": "code",
   "execution_count": 49,
   "metadata": {
    "colab": {
     "autoexec": {
      "startup": false,
      "wait_interval": 0
     },
     "base_uri": "https://localhost:8080/",
     "height": 36
    },
    "colab_type": "code",
    "executionInfo": {
     "elapsed": 262586,
     "status": "ok",
     "timestamp": 1524341238392,
     "user": {
      "displayName": "Daniel Piskorski",
      "photoUrl": "//lh3.googleusercontent.com/-YRTQPqbF3mQ/AAAAAAAAAAI/AAAAAAAABgI/8AJLSSrEZ48/s50-c-k-no/photo.jpg",
      "userId": "101159451855410586942"
     },
     "user_tz": -120
    },
    "id": "8VGFTkiNnmOc",
    "outputId": "6c247dd5-a021-4be8-fda6-b542bfd6b6a6"
   },
   "outputs": [
    {
     "name": "stdout",
     "output_type": "stream",
     "text": [
      "average: -0.41262410003476846 std: 0.005083226723735235\n"
     ]
    }
   ],
   "source": [
    "#baseline model\n",
    "model = KerasRegressor(build_fn=baseline_model, epochs=10, batch_size=5, verbose=0)\n",
    "\n",
    "score = cross_val_score(model, train_X[:100000], train_y[:100000], scoring='neg_mean_squared_error', cv=2)\n",
    "print(\"average: {} std: {}\".format(score.mean(), score.std()*2))"
   ]
  },
  {
   "cell_type": "markdown",
   "metadata": {
    "colab_type": "text",
    "id": "GrwDKvJ8BxNu"
   },
   "source": [
    "**deep model** is neural network with two deep layers, first with twelve units and second with six"
   ]
  },
  {
   "cell_type": "code",
   "execution_count": 50,
   "metadata": {
    "colab": {
     "autoexec": {
      "startup": false,
      "wait_interval": 0
     },
     "base_uri": "https://localhost:8080/",
     "height": 36
    },
    "colab_type": "code",
    "executionInfo": {
     "elapsed": 309590,
     "status": "ok",
     "timestamp": 1524341548046,
     "user": {
      "displayName": "Daniel Piskorski",
      "photoUrl": "//lh3.googleusercontent.com/-YRTQPqbF3mQ/AAAAAAAAAAI/AAAAAAAABgI/8AJLSSrEZ48/s50-c-k-no/photo.jpg",
      "userId": "101159451855410586942"
     },
     "user_tz": -120
    },
    "id": "9-0UDVwqoZeW",
    "outputId": "eb1f2fa4-557d-43c4-a091-1cf4a1bb2eb4"
   },
   "outputs": [
    {
     "name": "stdout",
     "output_type": "stream",
     "text": [
      "average: -0.4086664039889718 std: 0.0022726769349029063\n"
     ]
    }
   ],
   "source": [
    "#deep model\n",
    "model = KerasRegressor(build_fn=deep_model, epochs=10, batch_size=5, verbose=0)\n",
    "\n",
    "score = cross_val_score(model, train_X[:100000], train_y[:100000], scoring='neg_mean_squared_error', cv=2)\n",
    "print(\"average: {} std: {}\".format(score.mean(), score.std()*2))"
   ]
  },
  {
   "cell_type": "markdown",
   "metadata": {
    "colab_type": "text",
    "id": "W36aqWnDCOiC"
   },
   "source": [
    "**wide model** is neural network with one deep layer containing 20 cells"
   ]
  },
  {
   "cell_type": "code",
   "execution_count": 52,
   "metadata": {
    "colab": {
     "autoexec": {
      "startup": false,
      "wait_interval": 0
     },
     "base_uri": "https://localhost:8080/",
     "height": 36
    },
    "colab_type": "code",
    "executionInfo": {
     "elapsed": 262274,
     "status": "ok",
     "timestamp": 1524341811868,
     "user": {
      "displayName": "Daniel Piskorski",
      "photoUrl": "//lh3.googleusercontent.com/-YRTQPqbF3mQ/AAAAAAAAAAI/AAAAAAAABgI/8AJLSSrEZ48/s50-c-k-no/photo.jpg",
      "userId": "101159451855410586942"
     },
     "user_tz": -120
    },
    "id": "Z0RoPG-ayW5y",
    "outputId": "fbac1eab-bb8f-43e0-a725-7d44c987fb75"
   },
   "outputs": [
    {
     "name": "stdout",
     "output_type": "stream",
     "text": [
      "average: -0.4288367635620518 std: 0.008279389463369868\n"
     ]
    }
   ],
   "source": [
    "#wide model\n",
    "model = KerasRegressor(build_fn=wide_model, epochs=10, batch_size=5, verbose=0)\n",
    "\n",
    "score = cross_val_score(model, train_X[:100000], train_y[:100000], scoring='neg_mean_squared_error', cv=2)\n",
    "print(\"average: {} std: {}\".format(score.mean(), score.std()*2))"
   ]
  },
  {
   "cell_type": "markdown",
   "metadata": {
    "colab_type": "text",
    "id": "sFYQ9eqMCNoK"
   },
   "source": [
    "**super model** is putting the saying \"The more the better\" to test. It is neural network with three deep layers:\n",
    "*  First with 20 units\n",
    "*  Second with 30 units\n",
    "*  Third with 20 units\n",
    "\n",
    "\n",
    "\n"
   ]
  },
  {
   "cell_type": "code",
   "execution_count": 72,
   "metadata": {
    "colab": {
     "autoexec": {
      "startup": false,
      "wait_interval": 0
     },
     "base_uri": "https://localhost:8080/",
     "height": 36
    },
    "colab_type": "code",
    "executionInfo": {
     "elapsed": 181892,
     "status": "ok",
     "timestamp": 1524346666292,
     "user": {
      "displayName": "Daniel Piskorski",
      "photoUrl": "//lh3.googleusercontent.com/-YRTQPqbF3mQ/AAAAAAAAAAI/AAAAAAAABgI/8AJLSSrEZ48/s50-c-k-no/photo.jpg",
      "userId": "101159451855410586942"
     },
     "user_tz": -120
    },
    "id": "ChduXGPE_Vcs",
    "outputId": "7c979a67-5cd6-4787-ca8d-8a741a73455b"
   },
   "outputs": [
    {
     "name": "stdout",
     "output_type": "stream",
     "text": [
      "average: -0.43262690728540126 std: 0.024165916882937455\n"
     ]
    }
   ],
   "source": [
    "#super model\n",
    "model = KerasRegressor(build_fn=super_model, epochs=5, batch_size=5, verbose=0)\n",
    "\n",
    "score = cross_val_score(model, train_X[:100000], train_y[:100000], scoring='neg_mean_squared_error', cv=2)\n",
    "print(\"average: {} std: {}\".format(score.mean(), score.std()*2))"
   ]
  },
  {
   "cell_type": "markdown",
   "metadata": {
    "colab_type": "text",
    "id": "lRKyHsDCCfYK"
   },
   "source": [
    "All networks has average mse around 0.4 which translates into 1.49 seconds of error."
   ]
  },
  {
   "cell_type": "markdown",
   "metadata": {
    "colab_type": "text",
    "id": "YOT_K_PP75uk"
   },
   "source": [
    "# Summary"
   ]
  },
  {
   "cell_type": "markdown",
   "metadata": {
    "colab_type": "text",
    "id": "f5UYJDMc7_S4"
   },
   "source": [
    "After testing 8 different models we get following results.\n",
    "\n",
    "Model ranked by performance in cross validation scored by mean mean squarred error:\n",
    "\n",
    "\n",
    "1 . Gradient Boosted Trees **0.208**\n",
    "\n",
    "\n",
    "2 . Random Trees Regressor **0.211**\n",
    "\n",
    "\n",
    "3 . Support Vector Machine with linear kernel **0.402**\n",
    "\n",
    "\n",
    "4 . The \"deep model\" Neural Network **0.408**\n",
    "\n",
    "\n",
    "5 . The \"baseline model\" Neural Network **0.412**\n",
    "\n",
    "\n",
    "6 . The \"wide model\" Neural Network **0.428**\n",
    "\n",
    "\n",
    "7 . The \"super model\" Neural Network **0.432**\n",
    "\n",
    "\n",
    "8 . Support Vector Machine with rbf kernel **0.571**\n",
    "\n"
   ]
  },
  {
   "cell_type": "markdown",
   "metadata": {},
   "source": [
    " \n",
    "    "
   ]
  },
  {
   "cell_type": "markdown",
   "metadata": {
    "colab_type": "text",
    "id": "I0GsphqWAxpm"
   },
   "source": [
    "\n"
   ]
  },
  {
   "cell_type": "markdown",
   "metadata": {
    "colab_type": "text",
    "id": "IZa9X8gYA1PQ"
   },
   "source": [
    "For further development we choose **Gradient Boosted Trees** model, which scored the lowest error of all model. The Downside is relatively long time of training which can be a bit painfull with using the whole database containing over 1 milion records."
   ]
  },
  {
   "cell_type": "markdown",
   "metadata": {
    "colab": {
     "autoexec": {
      "startup": false,
      "wait_interval": 0
     }
    },
    "colab_type": "code",
    "id": "L4FtBR_eBnFY"
   },
   "source": [
    "A: danpisq @ UNTER"
   ]
  }
 ],
 "metadata": {
  "accelerator": "GPU",
  "colab": {
   "collapsed_sections": [],
   "default_view": {},
   "name": "ny_taxi.ipynb",
   "provenance": [],
   "version": "0.3.2",
   "views": {}
  },
  "kernelspec": {
   "display_name": "Python 3",
   "language": "python",
   "name": "python3"
  },
  "language_info": {
   "codemirror_mode": {
    "name": "ipython",
    "version": 3
   },
   "file_extension": ".py",
   "mimetype": "text/x-python",
   "name": "python",
   "nbconvert_exporter": "python",
   "pygments_lexer": "ipython3",
   "version": "3.5.2"
  }
 },
 "nbformat": 4,
 "nbformat_minor": 1
}
