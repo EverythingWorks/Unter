{
 "cells": [
  {
   "cell_type": "code",
   "execution_count": 12,
   "metadata": {
    "colab": {
     "autoexec": {
      "startup": false,
      "wait_interval": 0
     }
    },
    "colab_type": "code",
    "id": "ouiRj_SHpwug"
   },
   "outputs": [],
   "source": [
    "import pandas as pd\n",
    "import numpy as np\n",
    "from sklearn.model_selection import cross_val_score\n",
    "from sklearn.model_selection import train_test_split"
   ]
  },
  {
   "cell_type": "markdown",
   "metadata": {
    "colab_type": "text",
    "id": "EQLCSmiSpwus"
   },
   "source": [
    "# Data exploration and preprocessnig"
   ]
  },
  {
   "cell_type": "code",
   "execution_count": 13,
   "metadata": {
    "colab": {
     "autoexec": {
      "startup": false,
      "wait_interval": 0
     }
    },
    "colab_type": "code",
    "id": "2enENoFHpwuu"
   },
   "outputs": [],
   "source": [
    "data_frame = pd.read_csv(\"data/train.csv\")"
   ]
  },
  {
   "cell_type": "code",
   "execution_count": 14,
   "metadata": {
    "colab": {
     "autoexec": {
      "startup": false,
      "wait_interval": 0
     },
     "base_uri": "https://localhost:8080/",
     "height": 289
    },
    "colab_type": "code",
    "executionInfo": {
     "elapsed": 1445,
     "status": "ok",
     "timestamp": 1525784508707,
     "user": {
      "displayName": "Daniel Piskorski",
      "photoUrl": "//lh3.googleusercontent.com/-YRTQPqbF3mQ/AAAAAAAAAAI/AAAAAAAABgI/8AJLSSrEZ48/s50-c-k-no/photo.jpg",
      "userId": "101159451855410586942"
     },
     "user_tz": -120
    },
    "id": "_iS7CNjWpwu2",
    "outputId": "12450b84-084c-4bad-d632-92b6c177e76c"
   },
   "outputs": [
    {
     "name": "stdout",
     "output_type": "stream",
     "text": [
      "<class 'pandas.core.frame.DataFrame'>\n",
      "RangeIndex: 1458644 entries, 0 to 1458643\n",
      "Data columns (total 11 columns):\n",
      "id                    1458644 non-null object\n",
      "vendor_id             1458644 non-null int64\n",
      "pickup_datetime       1458644 non-null object\n",
      "dropoff_datetime      1458644 non-null object\n",
      "passenger_count       1458644 non-null int64\n",
      "pickup_longitude      1458644 non-null float64\n",
      "pickup_latitude       1458644 non-null float64\n",
      "dropoff_longitude     1458644 non-null float64\n",
      "dropoff_latitude      1458644 non-null float64\n",
      "store_and_fwd_flag    1458644 non-null object\n",
      "trip_duration         1458644 non-null int64\n",
      "dtypes: float64(4), int64(3), object(4)\n",
      "memory usage: 122.4+ MB\n"
     ]
    }
   ],
   "source": [
    "data_frame.info()"
   ]
  },
  {
   "cell_type": "markdown",
   "metadata": {
    "colab_type": "text",
    "id": "Q8C6kgSIpwvE"
   },
   "source": [
    "\n"
   ]
  },
  {
   "cell_type": "markdown",
   "metadata": {
    "colab_type": "text",
    "id": "Aijak0MopwvG"
   },
   "source": [
    "Define two functions for later use.\n"
   ]
  },
  {
   "cell_type": "code",
   "execution_count": 15,
   "metadata": {},
   "outputs": [
    {
     "name": "stdout",
     "output_type": "stream",
     "text": [
      "from: long 32.1811408996582 lat -121.9333038330078\n",
      "to: long 43.92102813720703 lat -61.33552932739258\n"
     ]
    }
   ],
   "source": [
    "print(\"from: long {} lat {}\".format((data_frame.dropoff_latitude.min()), (data_frame.dropoff_longitude.min()))  )\n",
    "print(\"to: long {} lat {}\".format(max(data_frame.dropoff_latitude), max(data_frame.dropoff_longitude))  )"
   ]
  },
  {
   "cell_type": "code",
   "execution_count": 16,
   "metadata": {},
   "outputs": [
    {
     "name": "stdout",
     "output_type": "stream",
     "text": [
      "mean: long 40.7517995149002 lat -73.9734159469458\n"
     ]
    }
   ],
   "source": [
    "print(\"mean: long {} lat {}\".format((data_frame.dropoff_latitude.mean()), (data_frame.dropoff_longitude.mean()))  )"
   ]
  },
  {
   "cell_type": "code",
   "execution_count": 17,
   "metadata": {
    "colab": {
     "autoexec": {
      "startup": false,
      "wait_interval": 0
     }
    },
    "colab_type": "code",
    "id": "4uu-25VkpwvI"
   },
   "outputs": [],
   "source": [
    "def euklidian_dist(a_x,a_y,b_x,b_y):\n",
    "    return np.sqrt((a_x - b_x)**2 + (a_y - b_y)**2)\n",
    "\n",
    "def manhattan_dist(a_x,a_y,b_x,b_y):\n",
    "    return np.absolute(a_x - b_x) + np.absolute(a_y - b_y)"
   ]
  },
  {
   "cell_type": "markdown",
   "metadata": {
    "colab_type": "text",
    "id": "IaYjxrKTpwvM"
   },
   "source": [
    "\n"
   ]
  },
  {
   "cell_type": "markdown",
   "metadata": {
    "colab_type": "text",
    "id": "Aw6b1LKApwvO"
   },
   "source": [
    "Here we define our custom fields:\n",
    "    1. Transform field pickup_datetime to extract information about: month, day of the month, day of the week \n",
    "        and hour.\n",
    "        \n",
    "    2. Euklidian distance between pickup place and dropoff place.\n",
    "    \n",
    "    3. Mahattan distance between pickup place and dropoff place, because we operate in NYC.\n",
    "    \n",
    "    4. We also transform trip_duration field with log function."
   ]
  },
  {
   "cell_type": "code",
   "execution_count": 18,
   "metadata": {
    "colab": {
     "autoexec": {
      "startup": false,
      "wait_interval": 0
     }
    },
    "colab_type": "code",
    "id": "ycsUCQI9pwvQ"
   },
   "outputs": [],
   "source": [
    "data_frame['datetime'] = pd.to_datetime(data_frame.pickup_datetime)\n",
    "data_frame['day_of_week'] = data_frame.datetime.dt.dayofweek\n",
    "data_frame['hour'] = data_frame.datetime.dt.hour\n",
    "data_frame['day_of_month'] = data_frame.datetime.dt.day\n",
    "data_frame['month'] = data_frame.datetime.dt.month\n",
    "data_frame['euklidian_distance'] = euklidian_dist(data_frame.dropoff_latitude,  data_frame.dropoff_longitude, data_frame.pickup_latitude,data_frame.pickup_longitude)\n",
    "data_frame['manhattan_distance'] = manhattan_dist(data_frame.dropoff_latitude,  data_frame.dropoff_longitude, data_frame.pickup_latitude,data_frame.pickup_longitude)\n",
    "data_frame['log_trip_duration'] = np.log(data_frame.trip_duration)"
   ]
  },
  {
   "cell_type": "markdown",
   "metadata": {
    "colab_type": "text",
    "id": "rfqbOAgspwvY"
   },
   "source": [
    "\n"
   ]
  },
  {
   "cell_type": "code",
   "execution_count": 19,
   "metadata": {
    "colab": {
     "autoexec": {
      "startup": false,
      "wait_interval": 0
     }
    },
    "colab_type": "code",
    "id": "l71HAUmjpwvc"
   },
   "outputs": [
    {
     "data": {
      "text/html": [
       "<div>\n",
       "<style scoped>\n",
       "    .dataframe tbody tr th:only-of-type {\n",
       "        vertical-align: middle;\n",
       "    }\n",
       "\n",
       "    .dataframe tbody tr th {\n",
       "        vertical-align: top;\n",
       "    }\n",
       "\n",
       "    .dataframe thead th {\n",
       "        text-align: right;\n",
       "    }\n",
       "</style>\n",
       "<table border=\"1\" class=\"dataframe\">\n",
       "  <thead>\n",
       "    <tr style=\"text-align: right;\">\n",
       "      <th></th>\n",
       "      <th>id</th>\n",
       "      <th>vendor_id</th>\n",
       "      <th>pickup_datetime</th>\n",
       "      <th>dropoff_datetime</th>\n",
       "      <th>passenger_count</th>\n",
       "      <th>pickup_longitude</th>\n",
       "      <th>pickup_latitude</th>\n",
       "      <th>dropoff_longitude</th>\n",
       "      <th>dropoff_latitude</th>\n",
       "      <th>store_and_fwd_flag</th>\n",
       "      <th>trip_duration</th>\n",
       "      <th>datetime</th>\n",
       "      <th>day_of_week</th>\n",
       "      <th>hour</th>\n",
       "      <th>day_of_month</th>\n",
       "      <th>month</th>\n",
       "      <th>euklidian_distance</th>\n",
       "      <th>manhattan_distance</th>\n",
       "      <th>log_trip_duration</th>\n",
       "    </tr>\n",
       "  </thead>\n",
       "  <tbody>\n",
       "    <tr>\n",
       "      <th>0</th>\n",
       "      <td>id2875421</td>\n",
       "      <td>2</td>\n",
       "      <td>2016-03-14 17:24:55</td>\n",
       "      <td>2016-03-14 17:32:30</td>\n",
       "      <td>1</td>\n",
       "      <td>-73.982155</td>\n",
       "      <td>40.767937</td>\n",
       "      <td>-73.964630</td>\n",
       "      <td>40.765602</td>\n",
       "      <td>N</td>\n",
       "      <td>455</td>\n",
       "      <td>2016-03-14 17:24:55</td>\n",
       "      <td>0</td>\n",
       "      <td>17</td>\n",
       "      <td>14</td>\n",
       "      <td>3</td>\n",
       "      <td>0.017680</td>\n",
       "      <td>0.019859</td>\n",
       "      <td>6.120297</td>\n",
       "    </tr>\n",
       "    <tr>\n",
       "      <th>1</th>\n",
       "      <td>id2377394</td>\n",
       "      <td>1</td>\n",
       "      <td>2016-06-12 00:43:35</td>\n",
       "      <td>2016-06-12 00:54:38</td>\n",
       "      <td>1</td>\n",
       "      <td>-73.980415</td>\n",
       "      <td>40.738564</td>\n",
       "      <td>-73.999481</td>\n",
       "      <td>40.731152</td>\n",
       "      <td>N</td>\n",
       "      <td>663</td>\n",
       "      <td>2016-06-12 00:43:35</td>\n",
       "      <td>6</td>\n",
       "      <td>0</td>\n",
       "      <td>12</td>\n",
       "      <td>6</td>\n",
       "      <td>0.020456</td>\n",
       "      <td>0.026478</td>\n",
       "      <td>6.496775</td>\n",
       "    </tr>\n",
       "    <tr>\n",
       "      <th>2</th>\n",
       "      <td>id3858529</td>\n",
       "      <td>2</td>\n",
       "      <td>2016-01-19 11:35:24</td>\n",
       "      <td>2016-01-19 12:10:48</td>\n",
       "      <td>1</td>\n",
       "      <td>-73.979027</td>\n",
       "      <td>40.763939</td>\n",
       "      <td>-74.005333</td>\n",
       "      <td>40.710087</td>\n",
       "      <td>N</td>\n",
       "      <td>2124</td>\n",
       "      <td>2016-01-19 11:35:24</td>\n",
       "      <td>1</td>\n",
       "      <td>11</td>\n",
       "      <td>19</td>\n",
       "      <td>1</td>\n",
       "      <td>0.059934</td>\n",
       "      <td>0.080158</td>\n",
       "      <td>7.661056</td>\n",
       "    </tr>\n",
       "    <tr>\n",
       "      <th>3</th>\n",
       "      <td>id3504673</td>\n",
       "      <td>2</td>\n",
       "      <td>2016-04-06 19:32:31</td>\n",
       "      <td>2016-04-06 19:39:40</td>\n",
       "      <td>1</td>\n",
       "      <td>-74.010040</td>\n",
       "      <td>40.719971</td>\n",
       "      <td>-74.012268</td>\n",
       "      <td>40.706718</td>\n",
       "      <td>N</td>\n",
       "      <td>429</td>\n",
       "      <td>2016-04-06 19:32:31</td>\n",
       "      <td>2</td>\n",
       "      <td>19</td>\n",
       "      <td>6</td>\n",
       "      <td>4</td>\n",
       "      <td>0.013438</td>\n",
       "      <td>0.015480</td>\n",
       "      <td>6.061457</td>\n",
       "    </tr>\n",
       "    <tr>\n",
       "      <th>4</th>\n",
       "      <td>id2181028</td>\n",
       "      <td>2</td>\n",
       "      <td>2016-03-26 13:30:55</td>\n",
       "      <td>2016-03-26 13:38:10</td>\n",
       "      <td>1</td>\n",
       "      <td>-73.973053</td>\n",
       "      <td>40.793209</td>\n",
       "      <td>-73.972923</td>\n",
       "      <td>40.782520</td>\n",
       "      <td>N</td>\n",
       "      <td>435</td>\n",
       "      <td>2016-03-26 13:30:55</td>\n",
       "      <td>5</td>\n",
       "      <td>13</td>\n",
       "      <td>26</td>\n",
       "      <td>3</td>\n",
       "      <td>0.010690</td>\n",
       "      <td>0.010818</td>\n",
       "      <td>6.075346</td>\n",
       "    </tr>\n",
       "    <tr>\n",
       "      <th>5</th>\n",
       "      <td>id0801584</td>\n",
       "      <td>2</td>\n",
       "      <td>2016-01-30 22:01:40</td>\n",
       "      <td>2016-01-30 22:09:03</td>\n",
       "      <td>6</td>\n",
       "      <td>-73.982857</td>\n",
       "      <td>40.742195</td>\n",
       "      <td>-73.992081</td>\n",
       "      <td>40.749184</td>\n",
       "      <td>N</td>\n",
       "      <td>443</td>\n",
       "      <td>2016-01-30 22:01:40</td>\n",
       "      <td>5</td>\n",
       "      <td>22</td>\n",
       "      <td>30</td>\n",
       "      <td>1</td>\n",
       "      <td>0.011572</td>\n",
       "      <td>0.016212</td>\n",
       "      <td>6.093570</td>\n",
       "    </tr>\n",
       "    <tr>\n",
       "      <th>6</th>\n",
       "      <td>id1813257</td>\n",
       "      <td>1</td>\n",
       "      <td>2016-06-17 22:34:59</td>\n",
       "      <td>2016-06-17 22:40:40</td>\n",
       "      <td>4</td>\n",
       "      <td>-73.969017</td>\n",
       "      <td>40.757839</td>\n",
       "      <td>-73.957405</td>\n",
       "      <td>40.765896</td>\n",
       "      <td>N</td>\n",
       "      <td>341</td>\n",
       "      <td>2016-06-17 22:34:59</td>\n",
       "      <td>4</td>\n",
       "      <td>22</td>\n",
       "      <td>17</td>\n",
       "      <td>6</td>\n",
       "      <td>0.014133</td>\n",
       "      <td>0.019669</td>\n",
       "      <td>5.831882</td>\n",
       "    </tr>\n",
       "    <tr>\n",
       "      <th>7</th>\n",
       "      <td>id1324603</td>\n",
       "      <td>2</td>\n",
       "      <td>2016-05-21 07:54:58</td>\n",
       "      <td>2016-05-21 08:20:49</td>\n",
       "      <td>1</td>\n",
       "      <td>-73.969276</td>\n",
       "      <td>40.797779</td>\n",
       "      <td>-73.922470</td>\n",
       "      <td>40.760559</td>\n",
       "      <td>N</td>\n",
       "      <td>1551</td>\n",
       "      <td>2016-05-21 07:54:58</td>\n",
       "      <td>5</td>\n",
       "      <td>7</td>\n",
       "      <td>21</td>\n",
       "      <td>5</td>\n",
       "      <td>0.059801</td>\n",
       "      <td>0.084026</td>\n",
       "      <td>7.346655</td>\n",
       "    </tr>\n",
       "    <tr>\n",
       "      <th>8</th>\n",
       "      <td>id1301050</td>\n",
       "      <td>1</td>\n",
       "      <td>2016-05-27 23:12:23</td>\n",
       "      <td>2016-05-27 23:16:38</td>\n",
       "      <td>1</td>\n",
       "      <td>-73.999481</td>\n",
       "      <td>40.738400</td>\n",
       "      <td>-73.985786</td>\n",
       "      <td>40.732815</td>\n",
       "      <td>N</td>\n",
       "      <td>255</td>\n",
       "      <td>2016-05-27 23:12:23</td>\n",
       "      <td>4</td>\n",
       "      <td>23</td>\n",
       "      <td>27</td>\n",
       "      <td>5</td>\n",
       "      <td>0.014790</td>\n",
       "      <td>0.019279</td>\n",
       "      <td>5.541264</td>\n",
       "    </tr>\n",
       "    <tr>\n",
       "      <th>9</th>\n",
       "      <td>id0012891</td>\n",
       "      <td>2</td>\n",
       "      <td>2016-03-10 21:45:01</td>\n",
       "      <td>2016-03-10 22:05:26</td>\n",
       "      <td>1</td>\n",
       "      <td>-73.981049</td>\n",
       "      <td>40.744339</td>\n",
       "      <td>-73.973000</td>\n",
       "      <td>40.789989</td>\n",
       "      <td>N</td>\n",
       "      <td>1225</td>\n",
       "      <td>2016-03-10 21:45:01</td>\n",
       "      <td>3</td>\n",
       "      <td>21</td>\n",
       "      <td>10</td>\n",
       "      <td>3</td>\n",
       "      <td>0.046355</td>\n",
       "      <td>0.053699</td>\n",
       "      <td>7.110696</td>\n",
       "    </tr>\n",
       "    <tr>\n",
       "      <th>10</th>\n",
       "      <td>id1436371</td>\n",
       "      <td>2</td>\n",
       "      <td>2016-05-10 22:08:41</td>\n",
       "      <td>2016-05-10 22:29:55</td>\n",
       "      <td>1</td>\n",
       "      <td>-73.982651</td>\n",
       "      <td>40.763840</td>\n",
       "      <td>-74.002228</td>\n",
       "      <td>40.732990</td>\n",
       "      <td>N</td>\n",
       "      <td>1274</td>\n",
       "      <td>2016-05-10 22:08:41</td>\n",
       "      <td>1</td>\n",
       "      <td>22</td>\n",
       "      <td>10</td>\n",
       "      <td>5</td>\n",
       "      <td>0.036537</td>\n",
       "      <td>0.050426</td>\n",
       "      <td>7.149917</td>\n",
       "    </tr>\n",
       "  </tbody>\n",
       "</table>\n",
       "</div>"
      ],
      "text/plain": [
       "           id  vendor_id      pickup_datetime     dropoff_datetime  \\\n",
       "0   id2875421          2  2016-03-14 17:24:55  2016-03-14 17:32:30   \n",
       "1   id2377394          1  2016-06-12 00:43:35  2016-06-12 00:54:38   \n",
       "2   id3858529          2  2016-01-19 11:35:24  2016-01-19 12:10:48   \n",
       "3   id3504673          2  2016-04-06 19:32:31  2016-04-06 19:39:40   \n",
       "4   id2181028          2  2016-03-26 13:30:55  2016-03-26 13:38:10   \n",
       "5   id0801584          2  2016-01-30 22:01:40  2016-01-30 22:09:03   \n",
       "6   id1813257          1  2016-06-17 22:34:59  2016-06-17 22:40:40   \n",
       "7   id1324603          2  2016-05-21 07:54:58  2016-05-21 08:20:49   \n",
       "8   id1301050          1  2016-05-27 23:12:23  2016-05-27 23:16:38   \n",
       "9   id0012891          2  2016-03-10 21:45:01  2016-03-10 22:05:26   \n",
       "10  id1436371          2  2016-05-10 22:08:41  2016-05-10 22:29:55   \n",
       "\n",
       "    passenger_count  pickup_longitude  pickup_latitude  dropoff_longitude  \\\n",
       "0                 1        -73.982155        40.767937         -73.964630   \n",
       "1                 1        -73.980415        40.738564         -73.999481   \n",
       "2                 1        -73.979027        40.763939         -74.005333   \n",
       "3                 1        -74.010040        40.719971         -74.012268   \n",
       "4                 1        -73.973053        40.793209         -73.972923   \n",
       "5                 6        -73.982857        40.742195         -73.992081   \n",
       "6                 4        -73.969017        40.757839         -73.957405   \n",
       "7                 1        -73.969276        40.797779         -73.922470   \n",
       "8                 1        -73.999481        40.738400         -73.985786   \n",
       "9                 1        -73.981049        40.744339         -73.973000   \n",
       "10                1        -73.982651        40.763840         -74.002228   \n",
       "\n",
       "    dropoff_latitude store_and_fwd_flag  trip_duration            datetime  \\\n",
       "0          40.765602                  N            455 2016-03-14 17:24:55   \n",
       "1          40.731152                  N            663 2016-06-12 00:43:35   \n",
       "2          40.710087                  N           2124 2016-01-19 11:35:24   \n",
       "3          40.706718                  N            429 2016-04-06 19:32:31   \n",
       "4          40.782520                  N            435 2016-03-26 13:30:55   \n",
       "5          40.749184                  N            443 2016-01-30 22:01:40   \n",
       "6          40.765896                  N            341 2016-06-17 22:34:59   \n",
       "7          40.760559                  N           1551 2016-05-21 07:54:58   \n",
       "8          40.732815                  N            255 2016-05-27 23:12:23   \n",
       "9          40.789989                  N           1225 2016-03-10 21:45:01   \n",
       "10         40.732990                  N           1274 2016-05-10 22:08:41   \n",
       "\n",
       "    day_of_week  hour  day_of_month  month  euklidian_distance  \\\n",
       "0             0    17            14      3            0.017680   \n",
       "1             6     0            12      6            0.020456   \n",
       "2             1    11            19      1            0.059934   \n",
       "3             2    19             6      4            0.013438   \n",
       "4             5    13            26      3            0.010690   \n",
       "5             5    22            30      1            0.011572   \n",
       "6             4    22            17      6            0.014133   \n",
       "7             5     7            21      5            0.059801   \n",
       "8             4    23            27      5            0.014790   \n",
       "9             3    21            10      3            0.046355   \n",
       "10            1    22            10      5            0.036537   \n",
       "\n",
       "    manhattan_distance  log_trip_duration  \n",
       "0             0.019859           6.120297  \n",
       "1             0.026478           6.496775  \n",
       "2             0.080158           7.661056  \n",
       "3             0.015480           6.061457  \n",
       "4             0.010818           6.075346  \n",
       "5             0.016212           6.093570  \n",
       "6             0.019669           5.831882  \n",
       "7             0.084026           7.346655  \n",
       "8             0.019279           5.541264  \n",
       "9             0.053699           7.110696  \n",
       "10            0.050426           7.149917  "
      ]
     },
     "execution_count": 19,
     "metadata": {},
     "output_type": "execute_result"
    }
   ],
   "source": [
    "#actual data frame\n",
    "data_frame[:11]"
   ]
  },
  {
   "cell_type": "markdown",
   "metadata": {
    "colab_type": "text",
    "id": "mNixOLqgpwvi"
   },
   "source": [
    "\n",
    "\n"
   ]
  },
  {
   "cell_type": "markdown",
   "metadata": {
    "colab_type": "text",
    "id": "x6ljDyHTpwvk"
   },
   "source": [
    "We tranform use log function on trip_duration, because it is supposed reduce skeewnes.\n",
    "\n",
    "More on that here\n",
    "https://becominghuman.ai/how-to-deal-with-skewed-dataset-in-machine-learning-afd2928011cc\n",
    "\n",
    "All I know is that can help with regression in some cases, and it was true in ours.\n",
    "\n",
    "Here is what is correlation between given fields and a trip_duration, it gives us information how each field influences the output:\n"
   ]
  },
  {
   "cell_type": "markdown",
   "metadata": {
    "colab_type": "text",
    "id": "9IV7Tuaxpwv0"
   },
   "source": [
    "And here is correlation betwen given fields and log_trip_duration:\n"
   ]
  },
  {
   "cell_type": "markdown",
   "metadata": {
    "colab_type": "text",
    "id": "WAYX5qZBpwwQ"
   },
   "source": [
    "We pick fields for later training. We have decided to use both euklidian and manhattan distance, because this configuration gave us the best results."
   ]
  },
  {
   "cell_type": "code",
   "execution_count": 34,
   "metadata": {
    "colab": {
     "autoexec": {
      "startup": false,
      "wait_interval": 0
     }
    },
    "colab_type": "code",
    "id": "TKbIw-vdpwwU"
   },
   "outputs": [],
   "source": [
    "data_X   = data_frame[[\n",
    "        'pickup_longitude', 'pickup_latitude',\n",
    "        'dropoff_longitude', 'dropoff_latitude',\n",
    "        'month', 'hour',\n",
    "        'euklidian_distance',\n",
    "        'manhattan_distance',\n",
    "    \n",
    "       ]].values\n",
    "\n",
    "\n",
    "\n",
    "data_y = data_frame['log_trip_duration'].values"
   ]
  },
  {
   "cell_type": "code",
   "execution_count": 35,
   "metadata": {
    "colab": {
     "autoexec": {
      "startup": false,
      "wait_interval": 0
     }
    },
    "colab_type": "code",
    "id": "LO4fIcRsf7x4"
   },
   "outputs": [],
   "source": [
    "\n",
    "train_X, test_X, train_y, test_y = train_test_split(data_X, data_y, test_size=0.2)"
   ]
  },
  {
   "cell_type": "code",
   "execution_count": 36,
   "metadata": {
    "colab": {
     "autoexec": {
      "startup": false,
      "wait_interval": 0
     },
     "base_uri": "https://localhost:8080/",
     "height": 238
    },
    "colab_type": "code",
    "executionInfo": {
     "elapsed": 3186,
     "status": "ok",
     "timestamp": 1525784530063,
     "user": {
      "displayName": "Daniel Piskorski",
      "photoUrl": "//lh3.googleusercontent.com/-YRTQPqbF3mQ/AAAAAAAAAAI/AAAAAAAABgI/8AJLSSrEZ48/s50-c-k-no/photo.jpg",
      "userId": "101159451855410586942"
     },
     "user_tz": -120
    },
    "id": "ZO7FR4pZpwwc",
    "outputId": "14552fc9-958e-4477-8312-4525c5285e68"
   },
   "outputs": [
    {
     "data": {
      "text/plain": [
       "array([[ -7.39649582e+01,   4.07725754e+01,  -7.39607239e+01, ...,\n",
       "          1.80000000e+01,   7.31295375e-03,   1.01966858e-02],\n",
       "       [ -7.39895401e+01,   4.07400093e+01,  -7.39935684e+01, ...,\n",
       "          9.00000000e+00,   1.26409979e-02,   1.60102844e-02],\n",
       "       [ -7.37900467e+01,   4.06469383e+01,  -7.39790802e+01, ...,\n",
       "          1.50000000e+01,   2.21157954e-01,   3.03825378e-01],\n",
       "       ..., \n",
       "       [ -7.39905090e+01,   4.07410583e+01,  -7.39750214e+01, ...,\n",
       "          2.00000000e+01,   1.68727061e-02,   2.21824646e-02],\n",
       "       [ -7.38638306e+01,   4.07697868e+01,  -7.40070496e+01, ...,\n",
       "          1.70000000e+01,   1.46451808e-01,   1.73820496e-01],\n",
       "       [ -7.39623795e+01,   4.07706490e+01,  -7.39758301e+01, ...,\n",
       "          1.10000000e+01,   1.51577945e-02,   2.04391479e-02]])"
      ]
     },
     "execution_count": 36,
     "metadata": {},
     "output_type": "execute_result"
    }
   ],
   "source": [
    "train_X"
   ]
  },
  {
   "cell_type": "markdown",
   "metadata": {
    "colab_type": "text",
    "id": "ccgeZ1ZBpwwi"
   },
   "source": [
    "\n"
   ]
  },
  {
   "cell_type": "markdown",
   "metadata": {
    "colab_type": "text",
    "id": "DlYlB4W_pwwi"
   },
   "source": [
    "We scale our input. By calculating mean of each column, and then dividing each element by mean of column it is in. After that operation all input fields should be moreover the same."
   ]
  },
  {
   "cell_type": "code",
   "execution_count": 37,
   "metadata": {
    "colab": {
     "autoexec": {
      "startup": false,
      "wait_interval": 0
     },
     "base_uri": "https://localhost:8080/",
     "height": 51
    },
    "colab_type": "code",
    "executionInfo": {
     "elapsed": 1552,
     "status": "ok",
     "timestamp": 1525784532007,
     "user": {
      "displayName": "Daniel Piskorski",
      "photoUrl": "//lh3.googleusercontent.com/-YRTQPqbF3mQ/AAAAAAAAAAI/AAAAAAAABgI/8AJLSSrEZ48/s50-c-k-no/photo.jpg",
      "userId": "101159451855410586942"
     },
     "user_tz": -120
    },
    "id": "orEovASKpwwk",
    "outputId": "e1665c4e-f371-4bea-da0c-b7488be05fc9"
   },
   "outputs": [
    {
     "name": "stdout",
     "output_type": "stream",
     "text": [
      "[ -7.39734503e+01   4.07509192e+01  -7.39733898e+01   4.07517839e+01\n",
      "   3.51708479e+00   1.36067434e+01   3.55015215e-02   4.59241450e-02]\n"
     ]
    }
   ],
   "source": [
    "means = np.array([np.mean(train_X[:,i]) for i in range(len(train_X[0]))])\n",
    "train_X = train_X / means\n",
    "test_X = test_X / means\n",
    "print(means)\n"
   ]
  },
  {
   "cell_type": "markdown",
   "metadata": {
    "colab_type": "text",
    "id": "gOq5dMk6pwws"
   },
   "source": [
    "\n"
   ]
  },
  {
   "cell_type": "markdown",
   "metadata": {
    "colab_type": "text",
    "id": "efFt_KmApwxM"
   },
   "source": [
    "# Production Model"
   ]
  },
  {
   "cell_type": "markdown",
   "metadata": {
    "colab_type": "text",
    "id": "OSLmjI7UgpRE"
   },
   "source": [
    "**4 .Gradient Boosted Trees**"
   ]
  },
  {
   "cell_type": "markdown",
   "metadata": {
    "colab_type": "text",
    "id": "kGTspP5wQnNi"
   },
   "source": []
  },
  {
   "cell_type": "code",
   "execution_count": 39,
   "metadata": {
    "colab": {
     "autoexec": {
      "startup": false,
      "wait_interval": 0
     }
    },
    "colab_type": "code",
    "id": "mfkn8vCbQnrg"
   },
   "outputs": [],
   "source": [
    "from sklearn.ensemble import GradientBoostingRegressor\n",
    "from sklearn.ensemble import RandomForestRegressor\n",
    "from sklearn.externals import joblib\n",
    "from sklearn.metrics import mean_squared_error"
   ]
  },
  {
   "cell_type": "code",
   "execution_count": 14,
   "metadata": {
    "colab": {
     "autoexec": {
      "startup": false,
      "wait_interval": 0
     }
    },
    "colab_type": "code",
    "id": "bmMovUf4Qn2G"
   },
   "outputs": [
    {
     "name": "stdout",
     "output_type": "stream",
     "text": [
      "4.88 s ± 329 ms per loop (mean ± std. dev. of 7 runs, 1 loop each)\n",
      "DONE\n"
     ]
    }
   ],
   "source": [
    "n = 50000\n",
    "model1 = GradientBoostingRegressor(criterion='mse')\n",
    "%timeit model1.fit(train_X[:n],train_y[:n])\n",
    "joblib.dump(model1,\"models/production50k.pkl\")\n",
    "print(\"DONE\")"
   ]
  },
  {
   "cell_type": "code",
   "execution_count": 15,
   "metadata": {
    "colab": {
     "autoexec": {
      "startup": false,
      "wait_interval": 0
     }
    },
    "colab_type": "code",
    "id": "BfYimo5dQqGg"
   },
   "outputs": [
    {
     "name": "stdout",
     "output_type": "stream",
     "text": [
      "13.5 s ± 663 ms per loop (mean ± std. dev. of 7 runs, 1 loop each)\n",
      "DONE\n"
     ]
    }
   ],
   "source": [
    "n = 100000\n",
    "model2 = GradientBoostingRegressor(criterion='mse')\n",
    "%timeit model2.fit(train_X[:n],train_y[:n])\n",
    "joblib.dump(model2,\"models/production100k.pkl\")\n",
    "print(\"DONE\")"
   ]
  },
  {
   "cell_type": "code",
   "execution_count": 16,
   "metadata": {
    "colab": {
     "autoexec": {
      "startup": false,
      "wait_interval": 0
     }
    },
    "colab_type": "code",
    "id": "l8GmVSnogpNE"
   },
   "outputs": [
    {
     "name": "stdout",
     "output_type": "stream",
     "text": [
      "29.9 s ± 383 ms per loop (mean ± std. dev. of 7 runs, 1 loop each)\n",
      "DONE\n"
     ]
    }
   ],
   "source": [
    "n = 200000\n",
    "model3 = GradientBoostingRegressor(criterion='mse')\n",
    "%timeit model3.fit(train_X[:n],train_y[:n])\n",
    "joblib.dump(model3,\"models/production200k.pkl\")\n",
    "print(\"DONE\")"
   ]
  },
  {
   "cell_type": "code",
   "execution_count": 17,
   "metadata": {
    "colab": {
     "autoexec": {
      "startup": false,
      "wait_interval": 0
     }
    },
    "colab_type": "code",
    "id": "pAQbETluhT9k"
   },
   "outputs": [
    {
     "name": "stdout",
     "output_type": "stream",
     "text": [
      "1min 12s ± 1.9 s per loop (mean ± std. dev. of 7 runs, 1 loop each)\n",
      "DONE\n"
     ]
    }
   ],
   "source": [
    "n = 400000\n",
    "model4 = GradientBoostingRegressor(criterion='mse')\n",
    "%timeit model4.fit(train_X[:n],train_y[:n])\n",
    "joblib.dump(model4,\"models/production400k.pkl\")\n",
    "print(\"DONE\")"
   ]
  },
  {
   "cell_type": "code",
   "execution_count": 27,
   "metadata": {
    "colab": {
     "autoexec": {
      "startup": false,
      "wait_interval": 0
     }
    },
    "colab_type": "code",
    "id": "KIC4CRM01gNC"
   },
   "outputs": [
    {
     "name": "stdout",
     "output_type": "stream",
     "text": [
      "3min 5s ± 9.64 s per loop (mean ± std. dev. of 7 runs, 1 loop each)\n",
      "DONE\n"
     ]
    }
   ],
   "source": [
    "model4 = GradientBoostingRegressor(criterion='mse')\n",
    "%timeit model4.fit(train_X,train_y)\n",
    "joblib.dump(model4,\"models/production_full.pkl\")\n",
    "print(\"DONE\")"
   ]
  },
  {
   "cell_type": "code",
   "execution_count": 40,
   "metadata": {},
   "outputs": [
    {
     "name": "stdout",
     "output_type": "stream",
     "text": [
      "0.269155333597\n"
     ]
    }
   ],
   "source": [
    "model4 = joblib.load(\"models/production_full.pkl\")\n",
    "result = model4.predict(test_X)\n",
    "print(mean_squared_error(test_y, result))"
   ]
  },
  {
   "cell_type": "markdown",
   "metadata": {},
   "source": [
    "# SUMMARY"
   ]
  },
  {
   "cell_type": "markdown",
   "metadata": {},
   "source": [
    "**The best result we've achieved was lmse 0.26. This is the model we are going to use in Unter service.**"
   ]
  },
  {
   "cell_type": "markdown",
   "metadata": {},
   "source": [
    "danpisq@Unter"
   ]
  }
 ],
 "metadata": {
  "accelerator": "GPU",
  "colab": {
   "collapsed_sections": [],
   "default_view": {},
   "name": "ny_taxi_prod_model.ipynb",
   "provenance": [],
   "version": "0.3.2",
   "views": {}
  },
  "kernelspec": {
   "display_name": "Python 3",
   "language": "python",
   "name": "python3"
  },
  "language_info": {
   "codemirror_mode": {
    "name": "ipython",
    "version": 3
   },
   "file_extension": ".py",
   "mimetype": "text/x-python",
   "name": "python",
   "nbconvert_exporter": "python",
   "pygments_lexer": "ipython3",
   "version": "3.5.2"
  }
 },
 "nbformat": 4,
 "nbformat_minor": 1
}
